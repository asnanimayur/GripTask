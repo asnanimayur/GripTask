{
 "cells": [
  {
   "cell_type": "markdown",
   "id": "c6952355",
   "metadata": {},
   "source": [
    "# GRIP: THE SPARKS FOUNDATION"
   ]
  },
  {
   "cell_type": "markdown",
   "id": "5078879b",
   "metadata": {},
   "source": [
    "# Data Science and Business Analytics Internship"
   ]
  },
  {
   "cell_type": "markdown",
   "id": "21088652",
   "metadata": {},
   "source": [
    "# Task1: Prediction Using Supervised ML"
   ]
  },
  {
   "cell_type": "markdown",
   "id": "f464027e",
   "metadata": {},
   "source": [
    "## Submitted by Mayur Asnani"
   ]
  },
  {
   "cell_type": "code",
   "execution_count": 1,
   "id": "5c3fcdb6",
   "metadata": {},
   "outputs": [],
   "source": [
    "import pandas as pd\n",
    "import numpy as np\n",
    "import matplotlib.pyplot as plt\n",
    "from sklearn.model_selection import train_test_split"
   ]
  },
  {
   "cell_type": "code",
   "execution_count": 2,
   "id": "0a051425",
   "metadata": {},
   "outputs": [],
   "source": [
    "# data generation\n",
    "\n",
    "df=pd.read_csv('/Users/mayurasnani/Desktop/sparks foundation/spark_data.csv')"
   ]
  },
  {
   "cell_type": "code",
   "execution_count": 3,
   "id": "432ee4d2",
   "metadata": {},
   "outputs": [
    {
     "data": {
      "text/html": [
       "<div>\n",
       "<style scoped>\n",
       "    .dataframe tbody tr th:only-of-type {\n",
       "        vertical-align: middle;\n",
       "    }\n",
       "\n",
       "    .dataframe tbody tr th {\n",
       "        vertical-align: top;\n",
       "    }\n",
       "\n",
       "    .dataframe thead th {\n",
       "        text-align: right;\n",
       "    }\n",
       "</style>\n",
       "<table border=\"1\" class=\"dataframe\">\n",
       "  <thead>\n",
       "    <tr style=\"text-align: right;\">\n",
       "      <th></th>\n",
       "      <th>Hours</th>\n",
       "      <th>Scores</th>\n",
       "    </tr>\n",
       "  </thead>\n",
       "  <tbody>\n",
       "    <tr>\n",
       "      <th>0</th>\n",
       "      <td>2.5</td>\n",
       "      <td>21</td>\n",
       "    </tr>\n",
       "    <tr>\n",
       "      <th>1</th>\n",
       "      <td>5.1</td>\n",
       "      <td>47</td>\n",
       "    </tr>\n",
       "    <tr>\n",
       "      <th>2</th>\n",
       "      <td>3.2</td>\n",
       "      <td>27</td>\n",
       "    </tr>\n",
       "    <tr>\n",
       "      <th>3</th>\n",
       "      <td>8.5</td>\n",
       "      <td>75</td>\n",
       "    </tr>\n",
       "    <tr>\n",
       "      <th>4</th>\n",
       "      <td>3.5</td>\n",
       "      <td>30</td>\n",
       "    </tr>\n",
       "    <tr>\n",
       "      <th>5</th>\n",
       "      <td>1.5</td>\n",
       "      <td>20</td>\n",
       "    </tr>\n",
       "    <tr>\n",
       "      <th>6</th>\n",
       "      <td>9.2</td>\n",
       "      <td>88</td>\n",
       "    </tr>\n",
       "    <tr>\n",
       "      <th>7</th>\n",
       "      <td>5.5</td>\n",
       "      <td>60</td>\n",
       "    </tr>\n",
       "    <tr>\n",
       "      <th>8</th>\n",
       "      <td>8.3</td>\n",
       "      <td>81</td>\n",
       "    </tr>\n",
       "    <tr>\n",
       "      <th>9</th>\n",
       "      <td>2.7</td>\n",
       "      <td>25</td>\n",
       "    </tr>\n",
       "  </tbody>\n",
       "</table>\n",
       "</div>"
      ],
      "text/plain": [
       "   Hours  Scores\n",
       "0    2.5      21\n",
       "1    5.1      47\n",
       "2    3.2      27\n",
       "3    8.5      75\n",
       "4    3.5      30\n",
       "5    1.5      20\n",
       "6    9.2      88\n",
       "7    5.5      60\n",
       "8    8.3      81\n",
       "9    2.7      25"
      ]
     },
     "execution_count": 3,
     "metadata": {},
     "output_type": "execute_result"
    }
   ],
   "source": [
    "df.head(n=10)"
   ]
  },
  {
   "cell_type": "code",
   "execution_count": 4,
   "id": "56c64dce",
   "metadata": {},
   "outputs": [],
   "source": [
    "# converting into numpy array\n",
    "\n",
    "data=df.values\n",
    "\n",
    "X=data[:,0]\n",
    "Y=data[:,1]\n"
   ]
  },
  {
   "cell_type": "code",
   "execution_count": 5,
   "id": "23f161f5",
   "metadata": {},
   "outputs": [
    {
     "data": {
      "text/plain": [
       "(array([2.5, 5.1, 3.2, 8.5, 3.5, 1.5, 9.2, 5.5, 8.3, 2.7, 7.7, 5.9, 4.5,\n",
       "        3.3, 1.1, 8.9, 2.5, 1.9, 6.1, 7.4, 2.7, 4.8, 3.8, 6.9, 7.8]),\n",
       " array([21., 47., 27., 75., 30., 20., 88., 60., 81., 25., 85., 62., 41.,\n",
       "        42., 17., 95., 30., 24., 67., 69., 30., 54., 35., 76., 86.]))"
      ]
     },
     "execution_count": 5,
     "metadata": {},
     "output_type": "execute_result"
    }
   ],
   "source": [
    "X,Y"
   ]
  },
  {
   "cell_type": "code",
   "execution_count": 6,
   "id": "1ff1ec39",
   "metadata": {},
   "outputs": [],
   "source": [
    "# we normalise our data\n",
    "u=X.mean()\n",
    "std=X.std()\n",
    "X=(X-u)/std"
   ]
  },
  {
   "cell_type": "code",
   "execution_count": 7,
   "id": "bf4723cd",
   "metadata": {},
   "outputs": [
    {
     "name": "stdout",
     "output_type": "stream",
     "text": [
      "(25, 1) (25, 1)\n"
     ]
    }
   ],
   "source": [
    "X=X.reshape((25,1))\n",
    "Y=Y.reshape((25,1))\n",
    "print(X.shape,Y.shape)"
   ]
  },
  {
   "cell_type": "code",
   "execution_count": 8,
   "id": "5e0805e2",
   "metadata": {},
   "outputs": [
    {
     "data": {
      "image/png": "[encoded data removed]",
      "text/plain": [
       "<Figure size 720x720 with 1 Axes>"
      ]
     },
     "metadata": {},
     "output_type": "display_data"
    }
   ],
   "source": [
    "# visualising our data\n",
    "\n",
    "plt.style.use('seaborn')\n",
    "plt.figure(figsize=(10,10))\n",
    "plt.scatter(X,Y,color='red')\n",
    "plt.xlabel('Hours')\n",
    "plt.ylabel('Percentage')\n",
    "plt.title('Hours vs Percentage')\n",
    "plt.show()"
   ]
  },
  {
   "cell_type": "code",
   "execution_count": 9,
   "id": "bf76cac6",
   "metadata": {},
   "outputs": [],
   "source": [
    "# we split our data into training and testing\n",
    "\n",
    "xtain,xtest,ytrain,ytest=train_test_split(X,Y,test_size=0.2,shuffle=True,random_state=42)"
   ]
  },
  {
   "cell_type": "code",
   "execution_count": 10,
   "id": "1c3eba96",
   "metadata": {},
   "outputs": [
    {
     "name": "stdout",
     "output_type": "stream",
     "text": [
      "(20, 1) (20, 1)\n",
      "(5, 1) (5, 1)\n"
     ]
    }
   ],
   "source": [
    "print(xtain.shape,ytrain.shape)\n",
    "print(xtest.shape,ytest.shape)"
   ]
  },
  {
   "cell_type": "code",
   "execution_count": 11,
   "id": "086673d9",
   "metadata": {},
   "outputs": [],
   "source": [
    "# in order to predict the percentage of student based on study hours, we want a best fit line for the above data"
   ]
  },
  {
   "cell_type": "code",
   "execution_count": 12,
   "id": "ddd6c97a",
   "metadata": {},
   "outputs": [],
   "source": [
    "# implementing Linear regression\n",
    "\n",
    "def hypothesis(X,theta):\n",
    "    y_=theta[0]+theta[1]*X\n",
    "    return y_\n",
    "\n",
    "def gradient(X,Y,theta):\n",
    "    m=X.shape[0]\n",
    "    grad=np.zeros((2,))\n",
    "    for i in range(m): # iterate over all examples\n",
    "        x=X[i]\n",
    "        y_=hypothesis(x,theta)\n",
    "        y=Y[i]\n",
    "        grad[0]+=(y_-y)\n",
    "        grad[1]+=(y_-y)*x\n",
    "        \n",
    "    return grad/m\n",
    "\n",
    "def error(X,Y,theta):\n",
    "    m=X.shape[0]\n",
    "    total_error=0.0\n",
    "    for i in range(m):\n",
    "        y_=hypothesis(X[i],theta)\n",
    "        \n",
    "        total_error+=(y_-Y[i])**2\n",
    "        \n",
    "    return total_error/m\n",
    "\n",
    "\n",
    "\n",
    "def gradientDescent(X,Y,max_steps=100,lr=0.1):\n",
    "    theta=np.zeros((2,))\n",
    "    theta_list=[]\n",
    "    error_list=[]\n",
    "    \n",
    "    for i in range(max_steps):\n",
    "        grad=gradient(X,Y,theta)\n",
    "        e=error(X,Y,theta)\n",
    "        error_list.append(e)\n",
    "        \n",
    "        # upgrade theta\n",
    "        theta[0]=theta[0]-lr*grad[0]\n",
    "        theta[1]=theta[1]-lr*grad[1]\n",
    "        \n",
    "        theta_list.append((theta[0],theta[1]))\n",
    "        \n",
    "    return theta,theta_list,error_list\n",
    "\n"
   ]
  },
  {
   "cell_type": "code",
   "execution_count": 13,
   "id": "d2aee74f",
   "metadata": {},
   "outputs": [],
   "source": [
    "theta,theta_list,error_list=gradientDescent(xtain,ytrain)"
   ]
  },
  {
   "cell_type": "code",
   "execution_count": 14,
   "id": "7cb2f2d4",
   "metadata": {},
   "outputs": [
    {
     "data": {
      "text/plain": [
       "array([51.35193757, 23.95341408])"
      ]
     },
     "execution_count": 14,
     "metadata": {},
     "output_type": "execute_result"
    }
   ],
   "source": [
    "theta"
   ]
  },
  {
   "cell_type": "code",
   "execution_count": 15,
   "id": "06322487",
   "metadata": {},
   "outputs": [
    {
     "data": {
      "image/png": "[encoded data removed]",
      "text/plain": [
       "<Figure size 576x396 with 1 Axes>"
      ]
     },
     "metadata": {},
     "output_type": "display_data"
    }
   ],
   "source": [
    "# plotting error\n",
    "\n",
    "plt.plot(error_list)\n",
    "plt.show()\n",
    "\n",
    "# error is reducing"
   ]
  },
  {
   "cell_type": "code",
   "execution_count": 16,
   "id": "d6efcc07",
   "metadata": {},
   "outputs": [
    {
     "name": "stdout",
     "output_type": "stream",
     "text": [
      "[[28.96771191]\n",
      " [34.77676701]\n",
      " [52.20393232]\n",
      " [39.61764626]\n",
      " [17.3496017 ]\n",
      " [33.80859116]\n",
      " [46.39487722]\n",
      " [88.99461465]\n",
      " [85.12191125]\n",
      " [36.71311871]\n",
      " [28.96771191]\n",
      " [21.2223051 ]\n",
      " [49.29940477]\n",
      " [61.88569083]\n",
      " [78.34468029]\n",
      " [56.07663573]\n",
      " [77.37650444]\n",
      " [13.4768983 ]\n",
      " [74.47197689]\n",
      " [91.8991422 ]]\n"
     ]
    }
   ],
   "source": [
    "# predictions\n",
    "\n",
    "y_=hypothesis(xtain,theta)\n",
    "print(y_)"
   ]
  },
  {
   "cell_type": "code",
   "execution_count": 17,
   "id": "fbf7b168",
   "metadata": {},
   "outputs": [
    {
     "data": {
      "image/png": "[encoded data removed]",
      "text/plain": [
       "<Figure size 720x720 with 1 Axes>"
      ]
     },
     "metadata": {},
     "output_type": "display_data"
    }
   ],
   "source": [
    "# plotting the best fit line\n",
    "\n",
    "plt.figure(figsize=(10,10))\n",
    "plt.scatter(xtain,ytrain,color='red')\n",
    "plt.plot(xtain,y_,color='orange',label='Best Fit Line')\n",
    "plt.legend()\n",
    "plt.xlabel('Hours')\n",
    "plt.ylabel('Percentage')\n",
    "plt.show()"
   ]
  },
  {
   "cell_type": "code",
   "execution_count": 18,
   "id": "1c373a3c",
   "metadata": {},
   "outputs": [
    {
     "name": "stdout",
     "output_type": "stream",
     "text": [
      "[[ 5.085       2.34268395]\n",
      " [ 9.66642384  4.45638886]\n",
      " [13.79414787  6.36348186]\n",
      " [17.51310781  8.08414666]\n",
      " [20.86378824  9.63659652]\n",
      " [23.88266356 11.03726651]\n",
      " [26.60259526 12.30098699]\n",
      " [29.05318988 13.44114015]\n",
      " [31.2611214  14.46980137]\n",
      " [33.2504218  15.39786674]\n",
      " [35.04274277 16.23516812]\n",
      " [36.65759147 16.99057706]\n",
      " [38.11254302 17.67209848]\n",
      " [39.42343183 18.28695534]\n",
      " [40.60452406 18.8416649 ]\n",
      " [41.66867296 19.34210771]\n",
      " [42.62745879 19.79358968]\n",
      " [43.49131496 20.20089827]\n",
      " [44.26964159 20.56835308]\n",
      " [44.97090788 20.89985156]\n",
      " [45.60274427 21.19891024]\n",
      " [46.17202559 21.46870192]\n",
      " [46.68494582 21.71208926]\n",
      " [47.14708558 21.93165508]\n",
      " [47.56347285 22.12972969]\n",
      " [47.9386377  22.30841558]\n",
      " [48.27666162 22.46960965]\n",
      " [48.58122195 22.61502332]\n",
      " [48.85563188 22.74620068]\n",
      " [49.10287652 22.86453478]\n",
      " [49.32564541 22.97128245]\n",
      " [49.52636178 23.06757759]\n",
      " [49.7072089  23.15444318]\n",
      " [49.87015388 23.23280215]\n",
      " [50.01696906 23.30348714]\n",
      " [50.14925129 23.36724933]\n",
      " [50.2684393  23.4247664 ]\n",
      " [50.37582941 23.47664973]\n",
      " [50.47258955 23.52345089]\n",
      " [50.55977205 23.56566746]\n",
      " [50.63832502 23.60374833]\n",
      " [50.70910274 23.63809846]\n",
      " [50.77287488 23.66908319]\n",
      " [50.83033493 23.69703208]\n",
      " [50.88210772 23.72224245]\n",
      " [50.92875622 23.74498251]\n",
      " [50.97078766 23.76549421]\n",
      " [51.00865907 23.78399581]\n",
      " [51.04278222 23.80068422]\n",
      " [51.07352814 23.81573705]\n",
      " [51.1012311  23.82931453]\n",
      " [51.1261923  23.84156121]\n",
      " [51.14868313 23.85260746]\n",
      " [51.16894808 23.8625709 ]\n",
      " [51.18720748 23.87155763]\n",
      " [51.20365984 23.87966336]\n",
      " [51.21848399 23.88697441]\n",
      " [51.23184109 23.89356867]\n",
      " [51.24387634 23.89951639]\n",
      " [51.25472057 23.90488092]\n",
      " [51.26449165 23.90971943]\n",
      " [51.27329579 23.91408348]\n",
      " [51.28122869 23.91801957]\n",
      " [51.28837658 23.92156965]\n",
      " [51.29481713 23.92477157]\n",
      " [51.30062036 23.92765946]\n",
      " [51.30584934 23.9302641 ]\n",
      " [51.31056089 23.93261326]\n",
      " [51.31480623 23.934732  ]\n",
      " [51.31863148 23.9366429 ]\n",
      " [51.32207823 23.93836635]\n",
      " [51.32518392 23.93992073]\n",
      " [51.32798232 23.94132262]\n",
      " [51.33050382 23.94258696]\n",
      " [51.33277582 23.94372726]\n",
      " [51.33482302 23.94475568]\n",
      " [51.33666767 23.94568319]\n",
      " [51.3383298  23.94651969]\n",
      " [51.33982747 23.9472741 ]\n",
      " [51.34117696 23.94795449]\n",
      " [51.34239294 23.9485681 ]\n",
      " [51.3434886  23.94912149]\n",
      " [51.34447586 23.94962057]\n",
      " [51.34536545 23.95007067]\n",
      " [51.34616702 23.95047659]\n",
      " [51.34688929 23.95084267]\n",
      " [51.3475401  23.95117281]\n",
      " [51.34812652 23.95147055]\n",
      " [51.34865493 23.95173906]\n",
      " [51.34913106 23.95198121]\n",
      " [51.34956009 23.95219959]\n",
      " [51.34994667 23.95239653]\n",
      " [51.35029501 23.95257413]\n",
      " [51.35060889 23.9527343 ]\n",
      " [51.35089171 23.95287874]\n",
      " [51.35114656 23.953009  ]\n",
      " [51.3513762  23.95312647]\n",
      " [51.35158312 23.9532324 ]\n",
      " [51.35176957 23.95332793]\n",
      " [51.35193757 23.95341408]]\n"
     ]
    },
    {
     "data": {
      "image/png": "[encoded data removed]",
      "text/plain": [
       "<Figure size 576x396 with 1 Axes>"
      ]
     },
     "metadata": {},
     "output_type": "display_data"
    }
   ],
   "source": [
    "# plotting theta list\n",
    "\n",
    "theta_list=np.array(theta_list)\n",
    "print(theta_list)\n",
    "\n",
    "plt.plot(theta_list[:,0],label='theta0')\n",
    "plt.plot(theta_list[:,1],label='theta1')\n",
    "plt.legend()\n",
    "plt.show()"
   ]
  },
  {
   "cell_type": "code",
   "execution_count": 19,
   "id": "651e64e4",
   "metadata": {},
   "outputs": [],
   "source": [
    "# calculating R2 score- accuracy\n",
    "\n",
    "def r2_score(y,y_):\n",
    "    # numerator\n",
    "    num=np.sum((y-y_)**2)\n",
    "    # denomenator\n",
    "    denom=np.sum((y-y.mean())**2)\n",
    "    # score\n",
    "    score=1-num/denom\n",
    "    return score*100"
   ]
  },
  {
   "cell_type": "code",
   "execution_count": 20,
   "id": "ef34ba0e",
   "metadata": {},
   "outputs": [
    {
     "data": {
      "text/plain": [
       "94.91209328949064"
      ]
     },
     "execution_count": 20,
     "metadata": {},
     "output_type": "execute_result"
    }
   ],
   "source": [
    "r2_score(ytrain,y_) # 95% accurate"
   ]
  },
  {
   "cell_type": "code",
   "execution_count": 21,
   "id": "c109cc0b",
   "metadata": {},
   "outputs": [
    {
     "name": "stdout",
     "output_type": "stream",
     "text": [
      "[[83.18555954]\n",
      " [27.03136021]\n",
      " [27.03136021]\n",
      " [69.63109764]\n",
      " [59.94933913]]\n"
     ]
    }
   ],
   "source": [
    "y_pred=hypothesis(xtest,theta)\n",
    "print(y_pred)"
   ]
  },
  {
   "cell_type": "code",
   "execution_count": 22,
   "id": "4a9d4dbc",
   "metadata": {},
   "outputs": [],
   "source": [
    "df=pd.DataFrame(ytest,columns=['Actual'])\n",
    "df['Predicted']=y_pred"
   ]
  },
  {
   "cell_type": "code",
   "execution_count": 23,
   "id": "a1e23598",
   "metadata": {},
   "outputs": [
    {
     "data": {
      "text/html": [
       "<div>\n",
       "<style scoped>\n",
       "    .dataframe tbody tr th:only-of-type {\n",
       "        vertical-align: middle;\n",
       "    }\n",
       "\n",
       "    .dataframe tbody tr th {\n",
       "        vertical-align: top;\n",
       "    }\n",
       "\n",
       "    .dataframe thead th {\n",
       "        text-align: right;\n",
       "    }\n",
       "</style>\n",
       "<table border=\"1\" class=\"dataframe\">\n",
       "  <thead>\n",
       "    <tr style=\"text-align: right;\">\n",
       "      <th></th>\n",
       "      <th>Actual</th>\n",
       "      <th>Predicted</th>\n",
       "    </tr>\n",
       "  </thead>\n",
       "  <tbody>\n",
       "    <tr>\n",
       "      <th>0</th>\n",
       "      <td>81.0</td>\n",
       "      <td>83.185560</td>\n",
       "    </tr>\n",
       "    <tr>\n",
       "      <th>1</th>\n",
       "      <td>30.0</td>\n",
       "      <td>27.031360</td>\n",
       "    </tr>\n",
       "    <tr>\n",
       "      <th>2</th>\n",
       "      <td>21.0</td>\n",
       "      <td>27.031360</td>\n",
       "    </tr>\n",
       "    <tr>\n",
       "      <th>3</th>\n",
       "      <td>76.0</td>\n",
       "      <td>69.631098</td>\n",
       "    </tr>\n",
       "    <tr>\n",
       "      <th>4</th>\n",
       "      <td>62.0</td>\n",
       "      <td>59.949339</td>\n",
       "    </tr>\n",
       "  </tbody>\n",
       "</table>\n",
       "</div>"
      ],
      "text/plain": [
       "   Actual  Predicted\n",
       "0    81.0  83.185560\n",
       "1    30.0  27.031360\n",
       "2    21.0  27.031360\n",
       "3    76.0  69.631098\n",
       "4    62.0  59.949339"
      ]
     },
     "execution_count": 23,
     "metadata": {},
     "output_type": "execute_result"
    }
   ],
   "source": [
    "df"
   ]
  },
  {
   "cell_type": "code",
   "execution_count": 24,
   "id": "bac2bdd1",
   "metadata": {},
   "outputs": [
    {
     "name": "stdout",
     "output_type": "stream",
     "text": [
      "enter number of hours per day? 9.25\n",
      "No of hours :  9.25 hrs/day\n",
      "Predicted Percentage : 92.38\n"
     ]
    }
   ],
   "source": [
    "# training our own data\n",
    "\n",
    "hour=float(input('enter number of hours per day? '))\n",
    "\n",
    "print('No of hours : ',hour,'hrs/day')\n",
    "\n",
    "# normalising hour\n",
    "\n",
    "hour=(hour-u)/std\n",
    "\n",
    "y_=hypothesis(hour,theta)\n",
    "\n",
    "print('Predicted Percentage : %.2f'%y_)"
   ]
  },
  {
   "cell_type": "markdown",
   "id": "f2f431c2",
   "metadata": {},
   "source": [
    "# conclusion- The predicted score of the student is 92.4 if the student studies for 9.25 hrs/day"
   ]
  }
 ],
 "metadata": {
  "kernelspec": {
   "display_name": "Python 3",
   "language": "python",
   "name": "python3"
  },
  "language_info": {
   "codemirror_mode": {
    "name": "ipython",
    "version": 3
   },
   "file_extension": ".py",
   "mimetype": "text/x-python",
   "name": "python",
   "nbconvert_exporter": "python",
   "pygments_lexer": "ipython3",
   "version": "3.8.8"
  }
 },
 "nbformat": 4,
 "nbformat_minor": 5
}
